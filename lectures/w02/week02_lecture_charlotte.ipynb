{
 "cells": [
  {
   "cell_type": "markdown",
   "metadata": {
    "slideshow": {
     "slide_type": "slide"
    }
   },
   "source": [
    "# Week 2 session - Review: Python basics\n",
    "\n",
    "Useful documentation: [https://docs.python.org/3/library/index.html](https://docs.python.org/3/library/index.html)"
   ]
  },
  {
   "cell_type": "code",
<<<<<<< HEAD:lectures/w02/week02_lecture_charlotte.ipynb
   "execution_count": 3,
=======
   "execution_count": 1,
>>>>>>> b815378 (changes):lectures/w02/week02_lecture.ipynb
   "metadata": {},
   "outputs": [
    {
     "name": "stdout",
     "output_type": "stream",
     "text": [
      "3.11.7 | packaged by conda-forge | (main, Dec 23 2023, 14:43:09) [GCC 12.3.0]\n"
     ]
    }
   ],
   "source": [
<<<<<<< HEAD:lectures/w02/week02_lecture_charlotte.ipynb
    "import sys\n",
=======
    "import sys \n",
>>>>>>> b815378 (changes):lectures/w02/week02_lecture.ipynb
    "print(sys.version)"
   ]
  },
  {
   "cell_type": "markdown",
   "metadata": {
    "slideshow": {
     "slide_type": "slide"
    }
   },
   "source": [
    "## Variable assignment\n",
    "\n",
    "What will be the output?"
   ]
  },
  {
   "cell_type": "code",
<<<<<<< HEAD:lectures/w02/week02_lecture_charlotte.ipynb
   "execution_count": 11,
=======
   "execution_count": 1,
>>>>>>> b815378 (changes):lectures/w02/week02_lecture.ipynb
   "metadata": {},
   "outputs": [
    {
     "name": "stdout",
     "output_type": "stream",
     "text": [
<<<<<<< HEAD:lectures/w02/week02_lecture_charlotte.ipynb
      "10, 8, 18, 2\n",
      "10 AND THEN 8 AND THEN 18 AND THEN 2\n",
=======
      "10 8 18 2\n",
      "10, 8, 18, 2\n",
>>>>>>> b815378 (changes):lectures/w02/week02_lecture.ipynb
      "10\n",
      "8\n",
      "18\n",
      "2\n"
     ]
    }
   ],
   "source": [
    "# Defining our variables\n",
    "a = 4*2\n",
    "b = a\n",
<<<<<<< HEAD:lectures/w02/week02_lecture_charlotte.ipynb
    "# print(a, b)\n",
    "a += 2 # same as a = a + 2\n",
    "\n",
    "# Display the values of a and b\n",
    "print(a, b, a+b, a-b, sep=', ')\n",
    "print(a, b, a+b, a-b, sep=' AND THEN ')\n",
    "print(a, b, a+b, a-b, sep='\\n')\n",
    "\n",
    "# Ctrl + / for toggling comment/uncomment"
=======
    "a += 2 #same as a = a + 2\n",
    "\n",
    "# Display the values of a and b\n",
    "print(a, b, a+b, a-b)\n",
    "print(a, b, a+b, a-b, sep=', ') #printing list with commas\n",
    "print(a, b, a+b, a-b, sep='\\n') #new line\n",
    "\n",
    "#Ctrl / for toggling comment/uncomment"
>>>>>>> b815378 (changes):lectures/w02/week02_lecture.ipynb
   ]
  },
  {
   "cell_type": "code",
   "execution_count": 22,
   "metadata": {},
   "outputs": [
    {
     "name": "stdout",
     "output_type": "stream",
     "text": [
      "Maariya\n"
     ]
    }
   ],
   "source": [
    "print(name_A)"
   ]
  },
  {
   "cell_type": "code",
   "execution_count": null,
   "metadata": {},
   "outputs": [],
   "source": []
  },
  {
   "cell_type": "code",
   "execution_count": null,
   "metadata": {},
   "outputs": [],
   "source": []
  },
  {
   "cell_type": "code",
   "execution_count": null,
   "metadata": {},
   "outputs": [],
   "source": []
  },
  {
   "cell_type": "code",
   "execution_count": null,
   "metadata": {},
   "outputs": [],
   "source": []
  },
  {
   "cell_type": "code",
   "execution_count": null,
   "metadata": {},
   "outputs": [],
   "source": []
  },
  {
   "cell_type": "markdown",
   "metadata": {
    "slideshow": {
     "slide_type": "slide"
    }
   },
   "source": [
    "## Strings\n",
    "\n",
    "What will be the output?"
   ]
  },
  {
   "cell_type": "code",
<<<<<<< HEAD:lectures/w02/week02_lecture_charlotte.ipynb
   "execution_count": 19,
=======
   "execution_count": 3,
>>>>>>> b815378 (changes):lectures/w02/week02_lecture.ipynb
   "metadata": {},
   "outputs": [
    {
     "name": "stdout",
     "output_type": "stream",
     "text": [
      "Tommy\n",
<<<<<<< HEAD:lectures/w02/week02_lecture_charlotte.ipynb
      "Jia\n",
=======
>>>>>>> b815378 (changes):lectures/w02/week02_lecture.ipynb
      "9\n"
     ]
    }
   ],
   "source": [
    "name_A = 'Maariya'\n",
    "name_B = 'Tommy'\n",
    "name_C = 'Jia'\n",
    "\n",
<<<<<<< HEAD:lectures/w02/week02_lecture_charlotte.ipynb
    "print(max(name_A, name_B, name_C))\n",
    "print(min(name_A, name_B, name_C))\n",
    "\n",
    "print(max(4, 6, 2, 8, 9, 0))"
=======
    "print(max(name_A, name_B, name_C)) #max function gives the last variable in alphabetical order\n",
    "print(min(name_A, name_B, name_C)) #min function gives the first variable in alphabetical order\n",
    "print(max(4, 6, 2, 9, 0)) #max takes the largest number\n"
>>>>>>> b815378 (changes):lectures/w02/week02_lecture.ipynb
   ]
  },
  {
   "cell_type": "code",
   "execution_count": null,
   "metadata": {},
   "outputs": [],
   "source": []
  },
  {
   "cell_type": "code",
   "execution_count": null,
   "metadata": {},
   "outputs": [],
   "source": []
  },
  {
   "cell_type": "code",
   "execution_count": null,
   "metadata": {},
   "outputs": [],
   "source": []
  },
  {
   "cell_type": "code",
   "execution_count": null,
   "metadata": {},
   "outputs": [],
   "source": []
  },
  {
   "cell_type": "code",
   "execution_count": null,
   "metadata": {},
   "outputs": [],
   "source": []
  },
  {
   "cell_type": "code",
   "execution_count": null,
   "metadata": {},
   "outputs": [],
   "source": []
  },
  {
   "cell_type": "markdown",
   "metadata": {
    "slideshow": {
     "slide_type": "slide"
    }
   },
   "source": [
    "## Formatted strings (f-strings)\n",
    "\n",
    "[Documentation on f-strings](https://docs.python.org/3/tutorial/inputoutput.html#formatted-string-literals)\n",
    "\n",
    "`Maariya's flatmates are Tommy and Jia.`"
   ]
  },
  {
   "cell_type": "code",
<<<<<<< HEAD:lectures/w02/week02_lecture_charlotte.ipynb
   "execution_count": 37,
=======
   "execution_count": 12,
>>>>>>> b815378 (changes):lectures/w02/week02_lecture.ipynb
   "metadata": {},
   "outputs": [
    {
     "name": "stdout",
     "output_type": "stream",
     "text": [
<<<<<<< HEAD:lectures/w02/week02_lecture_charlotte.ipynb
=======
      "The value of a is {a}\n",
      "The value of a is 10\n",
>>>>>>> b815378 (changes):lectures/w02/week02_lecture.ipynb
      "Maariya's flatmates are Tommy and Jia.\n",
      "Maariya's flatmates are Tommy and Jia.\n"
     ]
    }
   ],
   "source": [
<<<<<<< HEAD:lectures/w02/week02_lecture_charlotte.ipynb
    "# print(f'The value of b is {b}.')\n",
    "# print(a, b)\n",
    "# print(f'{name_A}'s flatmates are {name_B} and {name_C}.')\n",
    "print(f\"{name_A}'s flatmates are {name_B} and {name_C}.\")\n",
    "print(f'{name_A}\\'s flatmates are {name_B} and {name_C}.')"
=======
    "print('The value of a is {a}')\n",
    "print(f'The value of a is {a}')\n",
    "\n",
    "print(f\"{name_A}'s flatmates are {name_B} and {name_C}.\")\n",
    "print(f'{name_A}\\'s flatmates are {name_B} and {name_C}.') #use \\ to tell python to print a special character rather than use its function"
>>>>>>> b815378 (changes):lectures/w02/week02_lecture.ipynb
   ]
  },
  {
   "cell_type": "code",
   "execution_count": 30,
   "metadata": {},
   "outputs": [
    {
     "name": "stdout",
     "output_type": "stream",
     "text": [
      "c\n",
      "False\n"
     ]
    }
   ],
   "source": [
    "print(max('b', 'B', 'c'))\n",
    "print('c' < 'B')\n",
    "'AaBbCcDd'\n",
    "'aAbBcC'"
   ]
  },
  {
   "cell_type": "code",
   "execution_count": null,
   "metadata": {},
   "outputs": [],
   "source": []
  },
  {
   "cell_type": "code",
   "execution_count": null,
   "metadata": {},
   "outputs": [],
   "source": []
  },
  {
   "cell_type": "code",
   "execution_count": null,
   "metadata": {},
   "outputs": [],
   "source": []
  },
  {
   "cell_type": "markdown",
   "metadata": {
    "slideshow": {
     "slide_type": "slide"
    }
   },
   "source": [
    "`Room X is the largest.`"
   ]
  },
  {
   "cell_type": "code",
   "execution_count": 46,
   "metadata": {},
   "outputs": [
    {
     "name": "stdout",
     "output_type": "stream",
     "text": [
      "[6, 11.3, 8.2]\n",
      "6\n",
      "11.3\n",
      "1\n"
     ]
    }
   ],
   "source": [
    "# Room areas in square metres\n",
    "room_A, room_B, room_C = 6, 11.3, 8.2\n",
<<<<<<< HEAD:lectures/w02/week02_lecture_charlotte.ipynb
    "# print(room_B)\n",
    "\n",
    "# room_A = 6\n",
    "# room_B = 11.3\n",
    "# room_C = 8.2\n",
    "\n",
    "# Incorrect:\n",
    "# print(f'Room {max(room_A, room_B, room_C)} is the largest.')\n",
    "\n",
    "# One solution: create a list.\n",
    "rooms = [6, 11.3, 8.2]\n",
    "print(rooms)\n",
    "print(rooms[0])\n",
    "\n",
    "print(max(rooms))\n",
    "\n",
    "# Looking for the index (the position, starting from zero)\n",
    "# of the item whose value is the biggest\n",
    "print(rooms.index(max(rooms)))\n",
    "\n",
    "# TO DO: display the sentence above.\n",
    "# Easy: the result should show \"Room 1 is the largest.\"\n",
    "# Harder: the result should show \"Room B is the largest.\""
=======
    "\n",
    "# room_A = 6\n",
    "# room_B = 11.3\n",
    "# room_C = 8.2\n"
>>>>>>> b815378 (changes):lectures/w02/week02_lecture.ipynb
   ]
  },
  {
   "cell_type": "code",
   "execution_count": 11,
   "metadata": {},
   "outputs": [
    {
     "name": "stdout",
     "output_type": "stream",
     "text": [
      "Room B is the largest.\n"
     ]
    }
   ],
   "source": [
    "# One solution: create a list\n",
    "room_names = ['A', 'B', 'C']\n",
    "rooms = [6, 11.3, 8.2]\n",
    "\n",
    "# Looking for the index (the position, starting from zero) of the item whose value is the biggest\n",
    "largest_room = rooms.index(max(rooms))\n",
    "\n",
    "print(f'Room {room_names[largest_room]} is the largest.')"
   ]
  },
  {
   "cell_type": "code",
   "execution_count": null,
   "metadata": {},
   "outputs": [],
   "source": []
  },
  {
   "cell_type": "code",
   "execution_count": null,
   "metadata": {},
   "outputs": [],
   "source": []
  },
  {
   "cell_type": "code",
   "execution_count": null,
   "metadata": {},
   "outputs": [],
   "source": []
  },
  {
   "cell_type": "code",
   "execution_count": null,
   "metadata": {},
   "outputs": [],
   "source": []
  },
  {
   "cell_type": "markdown",
   "metadata": {
    "slideshow": {
     "slide_type": "slide"
    }
   },
   "source": [
    "`X's room is the largest.`"
   ]
  },
  {
   "cell_type": "code",
   "execution_count": 15,
   "metadata": {},
   "outputs": [
    {
     "ename": "NameError",
     "evalue": "name 'room_A' is not defined",
     "output_type": "error",
     "traceback": [
      "\u001b[0;31m---------------------------------------------------------------------------\u001b[0m",
      "\u001b[0;31mNameError\u001b[0m                                 Traceback (most recent call last)",
      "Cell \u001b[0;32mIn[15], line 1\u001b[0m\n\u001b[0;32m----> 1\u001b[0m \u001b[38;5;28mprint\u001b[39m(\u001b[38;5;124mf\u001b[39m\u001b[38;5;124m'\u001b[39m\u001b[38;5;132;01m{\u001b[39;00m\u001b[38;5;28mmax\u001b[39m(\u001b[43mroom_A\u001b[49m,\u001b[38;5;250m \u001b[39mroom_B,\u001b[38;5;250m \u001b[39mroom_C)\u001b[38;5;132;01m}\u001b[39;00m\u001b[38;5;130;01m\\'\u001b[39;00m\u001b[38;5;124ms room is the largest.\u001b[39m\u001b[38;5;124m'\u001b[39m)\n",
      "\u001b[0;31mNameError\u001b[0m: name 'room_A' is not defined"
     ]
    }
   ],
   "source": [
    "print(f'{max(room_A, room_B, room_C)}\\'s room is the largest.')"
   ]
  },
  {
   "cell_type": "code",
   "execution_count": null,
   "metadata": {
    "slideshow": {
     "slide_type": "slide"
    }
   },
   "outputs": [],
   "source": []
  },
  {
   "cell_type": "code",
   "execution_count": null,
   "metadata": {},
   "outputs": [],
   "source": []
  },
  {
   "cell_type": "code",
   "execution_count": null,
   "metadata": {},
   "outputs": [],
   "source": []
  },
  {
   "cell_type": "code",
   "execution_count": null,
   "metadata": {},
   "outputs": [],
   "source": []
  },
  {
   "cell_type": "code",
   "execution_count": null,
   "metadata": {},
   "outputs": [],
   "source": []
  }
 ],
 "metadata": {
  "celltoolbar": "Slideshow",
  "interpreter": {
   "hash": "f30fec01cca101540ea9ef63b3122cdc47ec1fb22c64585944e8a5fc27a29783"
  },
  "kernelspec": {
   "display_name": "Python 3 (ipykernel)",
   "language": "python",
   "name": "python3"
  },
  "language_info": {
   "codemirror_mode": {
    "name": "ipython",
    "version": 3
   },
   "file_extension": ".py",
   "mimetype": "text/x-python",
   "name": "python",
   "nbconvert_exporter": "python",
   "pygments_lexer": "ipython3",
   "version": "3.11.7"
  }
 },
 "nbformat": 4,
 "nbformat_minor": 4
}
