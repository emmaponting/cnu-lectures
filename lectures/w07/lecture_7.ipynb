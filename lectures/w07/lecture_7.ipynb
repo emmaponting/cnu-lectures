{
 "cells": [
  {
   "cell_type": "code",
   "execution_count": 5,
   "metadata": {},
   "outputs": [],
   "source": [
    "import numpy as np\n",
    "\n",
    "def quadrature(f, xk, wk, a, b):\n",
    "    '''\n",
    "    Approximates the integral of f over [a, b],\n",
    "    using the quadrature rule with weights wk\n",
    "    and nodes xk.\n",
    "    \n",
    "    Input:\n",
    "    f (function): function to integrate (as a Python function object)\n",
    "    xk (Numpy array): vector containing all nodes\n",
    "    wk (Numpy array): vector containing all weights\n",
    "    a (float): left boundary of the interval\n",
    "    b (float): right boundary of the interval\n",
    "    \n",
    "    Returns:\n",
    "    I_approx (float): the approximate value of the integral\n",
    "        of f over [a, b], using the quadrature rule.\n",
    "    '''\n",
    "\n",
    "    # define the shifted and scaled nodes\n",
    "    yk = (b-a)/2 * (xk+1) + a\n",
    "\n",
    "    # compute the weighted sum\n",
    "    I_approx = (b-a)/2 * np.sum(wk * f(yk))\n",
    "\n",
    "# define arbitray function (not a polynomial)\n",
    "def f(x):\n",
    "    return np.arctan(x)\n",
    "\n",
    "def F(x):\n",
    "    '''\n",
    "    exact value of arctan(x)\n",
    "    '''\n",
    "    return "
   ]
  },
  {
   "cell_type": "code",
   "execution_count": 4,
   "metadata": {},
   "outputs": [
    {
     "ename": "NameError",
     "evalue": "name 'f' is not defined",
     "output_type": "error",
     "traceback": [
      "\u001b[0;31m---------------------------------------------------------------------------\u001b[0m",
      "\u001b[0;31mNameError\u001b[0m                                 Traceback (most recent call last)",
      "Cell \u001b[0;32mIn[4], line 26\u001b[0m\n\u001b[1;32m     24\u001b[0m I_approx \u001b[38;5;241m=\u001b[39m \u001b[38;5;241m0\u001b[39m\n\u001b[1;32m     25\u001b[0m \u001b[38;5;28;01mfor\u001b[39;00m i \u001b[38;5;129;01min\u001b[39;00m \u001b[38;5;28mrange\u001b[39m(M):\n\u001b[0;32m---> 26\u001b[0m     I_approx \u001b[38;5;241m+\u001b[39m\u001b[38;5;241m=\u001b[39m quadrature(\u001b[43mf\u001b[49m, xk, wk, c[i], c[i\u001b[38;5;241m+\u001b[39m\u001b[38;5;241m1\u001b[39m]) \u001b[38;5;66;03m# c gives points for the sub intervals\u001b[39;00m\n\u001b[1;32m     28\u001b[0m I_approx_vals\u001b[38;5;241m.\u001b[39mappend(I_approx)\n",
      "\u001b[0;31mNameError\u001b[0m: name 'f' is not defined"
     ]
    }
   ],
   "source": [
    "# simpson's rule\n",
    "xk = np.array([-1, 0, 1])\n",
    "wk = np.array([1/3, 4/3, 1/3])\n",
    "\n",
    "# choose some interval\n",
    "a, b = 0, 4\n",
    "\n",
    "# choose some values of h (the width of the subinterval)\n",
    "\n",
    "# M = [2**k for k in range(2,11)]  # M is the number of subintervals\n",
    "M_vals = np.logspace(2, 10, 9, base=2, dtype=int)\n",
    "#print(M_vals)\n",
    "h_vals = (b-a)/M_vals\n",
    "#print(h_vals)\n",
    "\n",
    "# calculate the integral for all the different values of h (or M)\n",
    "I_approx_vals = []\n",
    "for M in M_vals:\n",
    "    # calculate the integral using the comoposite rule\n",
    "    # calculate the bounds of each sub-partition\n",
    "    c = np.linspace(a, b, M+1)\n",
    "\n",
    "    # sum up integral approximates over sub-intervals\n",
    "    I_approx = 0\n",
    "    for i in range(M):\n",
    "        I_approx += quadrature(f, xk, wk, c[i], c[i+1]) # c gives points for the sub intervals\n",
    "    \n",
    "    I_approx_vals.append(I_approx)\n",
    "\n",
    "\n",
    "I_exact = F(b)- F(a)\n",
    "error = np.abs(I_exact - I_approx_vals)\n",
    "\n",
    "# find the slope r,  (E = alpha*h**r), (logE = rlogh + logalpha)\n",
    "# r gives the rate of convergence\n",
    "np.polyfit(np.log(h_vals), np.log(error), 1)\n"
   ]
  },
  {
   "cell_type": "code",
   "execution_count": null,
   "metadata": {},
   "outputs": [],
   "source": []
  }
 ],
 "metadata": {
  "kernelspec": {
   "display_name": "base",
   "language": "python",
   "name": "python3"
  },
  "language_info": {
   "codemirror_mode": {
    "name": "ipython",
    "version": 3
   },
   "file_extension": ".py",
   "mimetype": "text/x-python",
   "name": "python",
   "nbconvert_exporter": "python",
   "pygments_lexer": "ipython3",
   "version": "3.11.7"
  }
 },
 "nbformat": 4,
 "nbformat_minor": 2
}
