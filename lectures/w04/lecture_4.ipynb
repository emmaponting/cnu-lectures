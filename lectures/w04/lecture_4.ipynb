{
 "cells": [
  {
   "cell_type": "code",
   "execution_count": 13,
   "metadata": {},
   "outputs": [],
   "source": [
    "import numpy as np\n",
    "# A_inv = np.linalg.inv(A) for inverse of matrix A\n",
    "# A_inv @ A matrix multiplication\n",
    "# inverse method not used\n",
    "\n",
    "n = 5000\n",
    "A = np.random.random((n,n))\n",
    "y = np.random.random((n,1))\n",
    "\n",
    "x = np.linalg.solve(A,y)"
   ]
  },
  {
   "cell_type": "code",
   "execution_count": 18,
   "metadata": {},
   "outputs": [],
   "source": [
    "#A.shape gives number of rows and columns\n",
    "def build_S(A,y):\n",
    "    m, n = A.shape\n",
    "\n",
    "    S = np.zeros((m, n + 1))\n",
    "\n",
    "    print(S[:,: n].shape)\n",
    "\n",
    "    S[:,:-1] = A\n",
    "    S[:,-1] = y # the final vector\n",
    "\n",
    "    return S"
   ]
  },
  {
   "cell_type": "code",
   "execution_count": 17,
   "metadata": {},
   "outputs": [
    {
     "name": "stdout",
     "output_type": "stream",
     "text": [
      "(5000, 5000)\n"
     ]
    },
    {
     "ename": "ValueError",
     "evalue": "could not broadcast input array from shape (5000,1) into shape (4999,5001)",
     "output_type": "error",
     "traceback": [
      "\u001b[0;31m---------------------------------------------------------------------------\u001b[0m",
      "\u001b[0;31mValueError\u001b[0m                                Traceback (most recent call last)",
      "Cell \u001b[0;32mIn[17], line 1\u001b[0m\n\u001b[0;32m----> 1\u001b[0m S \u001b[38;5;241m=\u001b[39m \u001b[43mbuild_S\u001b[49m\u001b[43m(\u001b[49m\u001b[43mA\u001b[49m\u001b[43m,\u001b[49m\u001b[43my\u001b[49m\u001b[43m)\u001b[49m\n\u001b[1;32m      2\u001b[0m S[\u001b[38;5;241m0\u001b[39m] \u001b[38;5;241m/\u001b[39m\u001b[38;5;241m=\u001b[39m S[\u001b[38;5;241m0\u001b[39m,\u001b[38;5;241m0\u001b[39m]\n",
      "Cell \u001b[0;32mIn[16], line 10\u001b[0m, in \u001b[0;36mbuild_S\u001b[0;34m(A, y)\u001b[0m\n\u001b[1;32m      7\u001b[0m \u001b[38;5;28mprint\u001b[39m(S[:,: n]\u001b[38;5;241m.\u001b[39mshape)\n\u001b[1;32m      9\u001b[0m S[:,:\u001b[38;5;241m-\u001b[39m\u001b[38;5;241m1\u001b[39m] \u001b[38;5;241m=\u001b[39m A\n\u001b[0;32m---> 10\u001b[0m \u001b[43mS\u001b[49m\u001b[43m[\u001b[49m\u001b[43m:\u001b[49m\u001b[38;5;241;43m-\u001b[39;49m\u001b[38;5;241;43m1\u001b[39;49m\u001b[43m]\u001b[49m \u001b[38;5;241m=\u001b[39m y \u001b[38;5;66;03m# the final vector\u001b[39;00m\n\u001b[1;32m     12\u001b[0m \u001b[38;5;28;01mreturn\u001b[39;00m S\n",
      "\u001b[0;31mValueError\u001b[0m: could not broadcast input array from shape (5000,1) into shape (4999,5001)"
     ]
    }
   ],
   "source": [
    "S = build_S(A,y)\n",
    "#S[0] /= S[0,0]\n",
    "\n",
    "j = 0\n",
    "S[j] /= S[j,j]\n",
    "\n",
    "for k in range(1,n):\n",
    "    S[k] -= S[j] * S[k,j]\n",
    "\n",
    "print(S)\n"
   ]
  },
  {
   "cell_type": "code",
   "execution_count": null,
   "metadata": {},
   "outputs": [],
   "source": []
  }
 ],
 "metadata": {
  "kernelspec": {
   "display_name": "base",
   "language": "python",
   "name": "python3"
  },
  "language_info": {
   "codemirror_mode": {
    "name": "ipython",
    "version": 3
   },
   "file_extension": ".py",
   "mimetype": "text/x-python",
   "name": "python",
   "nbconvert_exporter": "python",
   "pygments_lexer": "ipython3",
   "version": "3.11.7"
  }
 },
 "nbformat": 4,
 "nbformat_minor": 2
}
